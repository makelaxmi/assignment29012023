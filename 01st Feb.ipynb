{
 "cells": [
  {
   "cell_type": "code",
   "execution_count": 4,
   "id": "27e68364-a997-4450-a94a-ad8183988c7c",
   "metadata": {},
   "outputs": [],
   "source": [
    "## Dictionary would have learn in oxford you will get in alphabetic orders so many meanings would be there. In phyton also word and meanings\n",
    "## lets understand in this class how to do and how to use this dictionary "
   ]
  },
  {
   "cell_type": "code",
   "execution_count": 5,
   "id": "4496d9f6-2915-4c9d-9e1b-2649257184a0",
   "metadata": {},
   "outputs": [],
   "source": [
    "d = {}"
   ]
  },
  {
   "cell_type": "code",
   "execution_count": 6,
   "id": "f2a2dabc-7192-44cf-aeea-bfef67b20c23",
   "metadata": {},
   "outputs": [
    {
     "data": {
      "text/plain": [
       "dict"
      ]
     },
     "execution_count": 6,
     "metadata": {},
     "output_type": "execute_result"
    }
   ],
   "source": [
    "type(d)"
   ]
  },
  {
   "cell_type": "code",
   "execution_count": 7,
   "id": "a9e35594-2c8d-47aa-88ac-53631a80d4f2",
   "metadata": {},
   "outputs": [],
   "source": [
    "d1={\"key\" : \"lucky\"}"
   ]
  },
  {
   "cell_type": "code",
   "execution_count": 8,
   "id": "9058c72f-873f-4cad-bcf2-8f4f2d9b7cf2",
   "metadata": {},
   "outputs": [
    {
     "data": {
      "text/plain": [
       "{'key': 'lucky'}"
      ]
     },
     "execution_count": 8,
     "metadata": {},
     "output_type": "execute_result"
    }
   ],
   "source": [
    "d1"
   ]
  },
  {
   "cell_type": "code",
   "execution_count": 9,
   "id": "0bec97f0-4f9e-4867-93b0-b874060409d6",
   "metadata": {},
   "outputs": [],
   "source": [
    "d2={'name' : 'laxminarayan', 'email' : 'make.laxmi@gmail.com', 'number' : 9998234564}"
   ]
  },
  {
   "cell_type": "code",
   "execution_count": 10,
   "id": "1cf48b59-7b5e-4515-b5cf-0fb17a62e4c7",
   "metadata": {},
   "outputs": [
    {
     "data": {
      "text/plain": [
       "{'name': 'laxminarayan', 'email': 'make.laxmi@gmail.com', 'number': 9998234564}"
      ]
     },
     "execution_count": 10,
     "metadata": {},
     "output_type": "execute_result"
    }
   ],
   "source": [
    "d2"
   ]
  },
  {
   "cell_type": "code",
   "execution_count": 11,
   "id": "f4fc2f9a-535c-4541-acf6-69b1095c19a6",
   "metadata": {},
   "outputs": [],
   "source": [
    "d3 = {232:\"lucky\"}"
   ]
  },
  {
   "cell_type": "code",
   "execution_count": 12,
   "id": "cac65dd8-72cd-4dd8-89a1-eb5db380155e",
   "metadata": {},
   "outputs": [
    {
     "data": {
      "text/plain": [
       "{232: 'lucky'}"
      ]
     },
     "execution_count": 12,
     "metadata": {},
     "output_type": "execute_result"
    }
   ],
   "source": [
    "d3"
   ]
  },
  {
   "cell_type": "code",
   "execution_count": 13,
   "id": "a98cae77-632a-40c1-bce2-be79ccaa0a30",
   "metadata": {},
   "outputs": [
    {
     "data": {
      "text/plain": [
       "dict"
      ]
     },
     "execution_count": 13,
     "metadata": {},
     "output_type": "execute_result"
    }
   ],
   "source": [
    "type(d3)"
   ]
  },
  {
   "cell_type": "code",
   "execution_count": 15,
   "id": "4b6765c4-3f52-40f9-83bd-e150cbb1c681",
   "metadata": {},
   "outputs": [
    {
     "data": {
      "text/plain": [
       "'laxminarayan'"
      ]
     },
     "execution_count": 15,
     "metadata": {},
     "output_type": "execute_result"
    }
   ],
   "source": [
    "d2['name']"
   ]
  },
  {
   "cell_type": "code",
   "execution_count": 17,
   "id": "63ecb3a2-c7d0-4111-af0d-a1b0faa2aed0",
   "metadata": {},
   "outputs": [
    {
     "ename": "KeyError",
     "evalue": "0",
     "output_type": "error",
     "traceback": [
      "\u001b[0;31m---------------------------------------------------------------------------\u001b[0m",
      "\u001b[0;31mKeyError\u001b[0m                                  Traceback (most recent call last)",
      "Cell \u001b[0;32mIn [17], line 1\u001b[0m\n\u001b[0;32m----> 1\u001b[0m \u001b[43md2\u001b[49m\u001b[43m[\u001b[49m\u001b[38;5;241;43m0\u001b[39;49m\u001b[43m]\u001b[49m\n",
      "\u001b[0;31mKeyError\u001b[0m: 0"
     ]
    }
   ],
   "source": [
    "d2[0]"
   ]
  },
  {
   "cell_type": "code",
   "execution_count": 19,
   "id": "7b6177b8-cd5c-4cce-8fc2-151768d71b00",
   "metadata": {},
   "outputs": [
    {
     "ename": "KeyError",
     "evalue": "0",
     "output_type": "error",
     "traceback": [
      "\u001b[0;31m---------------------------------------------------------------------------\u001b[0m",
      "\u001b[0;31mKeyError\u001b[0m                                  Traceback (most recent call last)",
      "Cell \u001b[0;32mIn [19], line 1\u001b[0m\n\u001b[0;32m----> 1\u001b[0m \u001b[43md3\u001b[49m\u001b[43m[\u001b[49m\u001b[38;5;241;43m0\u001b[39;49m\u001b[43m]\u001b[49m\n",
      "\u001b[0;31mKeyError\u001b[0m: 0"
     ]
    }
   ],
   "source": [
    "d3[0]"
   ]
  },
  {
   "cell_type": "code",
   "execution_count": 20,
   "id": "d00a2645-3b1f-47b5-adf8-02e8799c6532",
   "metadata": {},
   "outputs": [
    {
     "ename": "KeyError",
     "evalue": "1",
     "output_type": "error",
     "traceback": [
      "\u001b[0;31m---------------------------------------------------------------------------\u001b[0m",
      "\u001b[0;31mKeyError\u001b[0m                                  Traceback (most recent call last)",
      "Cell \u001b[0;32mIn [20], line 1\u001b[0m\n\u001b[0;32m----> 1\u001b[0m \u001b[43md3\u001b[49m\u001b[43m[\u001b[49m\u001b[38;5;241;43m1\u001b[39;49m\u001b[43m]\u001b[49m\n",
      "\u001b[0;31mKeyError\u001b[0m: 1"
     ]
    }
   ],
   "source": [
    "d3[1]"
   ]
  },
  {
   "cell_type": "code",
   "execution_count": 21,
   "id": "8100bb60-7b3f-4a4c-88ba-f3d6e2910b3a",
   "metadata": {},
   "outputs": [
    {
     "ename": "KeyError",
     "evalue": "1",
     "output_type": "error",
     "traceback": [
      "\u001b[0;31m---------------------------------------------------------------------------\u001b[0m",
      "\u001b[0;31mKeyError\u001b[0m                                  Traceback (most recent call last)",
      "Cell \u001b[0;32mIn [21], line 1\u001b[0m\n\u001b[0;32m----> 1\u001b[0m \u001b[43md3\u001b[49m\u001b[43m[\u001b[49m\u001b[38;5;241;43m1\u001b[39;49m\u001b[43m]\u001b[49m\n",
      "\u001b[0;31mKeyError\u001b[0m: 1"
     ]
    }
   ],
   "source": [
    "d3[1]"
   ]
  },
  {
   "cell_type": "code",
   "execution_count": 5,
   "id": "b0fc0c13-e277-4412-b678-a6962cbb089e",
   "metadata": {},
   "outputs": [],
   "source": [
    "d3= {234:\"lucky\",\"@de\" : \"devine\", True:\"may be\"}"
   ]
  },
  {
   "cell_type": "code",
   "execution_count": 2,
   "id": "cfeaeac9-adc1-4c15-aa07-116a9619e6d8",
   "metadata": {},
   "outputs": [
    {
     "data": {
      "text/plain": [
       "dict"
      ]
     },
     "execution_count": 2,
     "metadata": {},
     "output_type": "execute_result"
    }
   ],
   "source": [
    "type(d3)"
   ]
  },
  {
   "cell_type": "code",
   "execution_count": 7,
   "id": "bb659a1f-7a81-4b48-9d94-d66cc8792a62",
   "metadata": {},
   "outputs": [
    {
     "data": {
      "text/plain": [
       "'lucky'"
      ]
     },
     "execution_count": 7,
     "metadata": {},
     "output_type": "execute_result"
    }
   ],
   "source": [
    "d3[234]"
   ]
  },
  {
   "cell_type": "code",
   "execution_count": 8,
   "id": "63008e52-81e6-4be0-857d-3a274a9a6301",
   "metadata": {},
   "outputs": [
    {
     "data": {
      "text/plain": [
       "'may be'"
      ]
     },
     "execution_count": 8,
     "metadata": {},
     "output_type": "execute_result"
    }
   ],
   "source": [
    "d3[True]"
   ]
  },
  {
   "cell_type": "code",
   "execution_count": 9,
   "id": "0c8c55db-89d0-4ebd-8c85-68bb8b651ec9",
   "metadata": {},
   "outputs": [
    {
     "data": {
      "text/plain": [
       "'may be'"
      ]
     },
     "execution_count": 9,
     "metadata": {},
     "output_type": "execute_result"
    }
   ],
   "source": [
    "d3[1]"
   ]
  },
  {
   "cell_type": "code",
   "execution_count": 10,
   "id": "43aa1d5d-5fa0-4d79-9416-6f247960cddb",
   "metadata": {},
   "outputs": [
    {
     "ename": "KeyError",
     "evalue": "0",
     "output_type": "error",
     "traceback": [
      "\u001b[0;31m---------------------------------------------------------------------------\u001b[0m",
      "\u001b[0;31mKeyError\u001b[0m                                  Traceback (most recent call last)",
      "Cell \u001b[0;32mIn [10], line 1\u001b[0m\n\u001b[0;32m----> 1\u001b[0m \u001b[43md3\u001b[49m\u001b[43m[\u001b[49m\u001b[38;5;241;43m0\u001b[39;49m\u001b[43m]\u001b[49m\n",
      "\u001b[0;31mKeyError\u001b[0m: 0"
     ]
    }
   ],
   "source": [
    "d3[0]"
   ]
  },
  {
   "cell_type": "code",
   "execution_count": 11,
   "id": "2e746a5a-c6ad-48b8-a995-10e388076048",
   "metadata": {},
   "outputs": [
    {
     "ename": "KeyError",
     "evalue": "2",
     "output_type": "error",
     "traceback": [
      "\u001b[0;31m---------------------------------------------------------------------------\u001b[0m",
      "\u001b[0;31mKeyError\u001b[0m                                  Traceback (most recent call last)",
      "Cell \u001b[0;32mIn [11], line 1\u001b[0m\n\u001b[0;32m----> 1\u001b[0m \u001b[43md3\u001b[49m\u001b[43m[\u001b[49m\u001b[38;5;241;43m2\u001b[39;49m\u001b[43m]\u001b[49m\n",
      "\u001b[0;31mKeyError\u001b[0m: 2"
     ]
    }
   ],
   "source": [
    "d3[2]"
   ]
  },
  {
   "cell_type": "code",
   "execution_count": 13,
   "id": "67e0a2ee-b7f9-4865-977f-127604f39537",
   "metadata": {},
   "outputs": [],
   "source": [
    "d4={'name':\"laxminarayan\",\"email id\" : \"make.laxmi@gmail.com\"}"
   ]
  },
  {
   "cell_type": "code",
   "execution_count": 17,
   "id": "729d4d76-bc3d-41cf-a993-36a7645ccb47",
   "metadata": {},
   "outputs": [
    {
     "data": {
      "text/plain": [
       "'laxminarayan'"
      ]
     },
     "execution_count": 17,
     "metadata": {},
     "output_type": "execute_result"
    }
   ],
   "source": [
    "d4[\"name\"]"
   ]
  },
  {
   "cell_type": "code",
   "execution_count": 20,
   "id": "ac333fc6-dfbd-4583-95da-dcf7fdb40a64",
   "metadata": {},
   "outputs": [],
   "source": [
    "d5={'company' : 'pwskills', 'course' : [\"web design\", \"data science\"]}"
   ]
  },
  {
   "cell_type": "code",
   "execution_count": 21,
   "id": "f1070365-a3ce-449b-a606-5b2d2af5e14b",
   "metadata": {},
   "outputs": [
    {
     "data": {
      "text/plain": [
       "['web design', 'data science']"
      ]
     },
     "execution_count": 21,
     "metadata": {},
     "output_type": "execute_result"
    }
   ],
   "source": [
    "d5['course']"
   ]
  },
  {
   "cell_type": "code",
   "execution_count": 22,
   "id": "95a4965b-78dd-4fe3-816f-905989bdf863",
   "metadata": {},
   "outputs": [
    {
     "ename": "NameError",
     "evalue": "name 'course' is not defined",
     "output_type": "error",
     "traceback": [
      "\u001b[0;31m---------------------------------------------------------------------------\u001b[0m",
      "\u001b[0;31mNameError\u001b[0m                                 Traceback (most recent call last)",
      "Cell \u001b[0;32mIn [22], line 1\u001b[0m\n\u001b[0;32m----> 1\u001b[0m d5[\u001b[43mcourse\u001b[49m]\n",
      "\u001b[0;31mNameError\u001b[0m: name 'course' is not defined"
     ]
    }
   ],
   "source": [
    "d5[course]"
   ]
  },
  {
   "cell_type": "code",
   "execution_count": 23,
   "id": "4454a7f6-c524-4671-a5a2-4b3d6a3c9064",
   "metadata": {},
   "outputs": [
    {
     "ename": "NameError",
     "evalue": "name 'course' is not defined",
     "output_type": "error",
     "traceback": [
      "\u001b[0;31m---------------------------------------------------------------------------\u001b[0m",
      "\u001b[0;31mNameError\u001b[0m                                 Traceback (most recent call last)",
      "Cell \u001b[0;32mIn [23], line 1\u001b[0m\n\u001b[0;32m----> 1\u001b[0m d5(\u001b[43mcourse\u001b[49m)\n",
      "\u001b[0;31mNameError\u001b[0m: name 'course' is not defined"
     ]
    }
   ],
   "source": [
    "d5(course)"
   ]
  },
  {
   "cell_type": "code",
   "execution_count": 28,
   "id": "57a344d4-1722-4db0-a605-9fb413819b4f",
   "metadata": {},
   "outputs": [],
   "source": [
    "d6={\"number\" : [3,4,5,23,523], \"assignment\" :(3,35,23,24,21), \"lunch_date\" : {\"12,04,2023\"} }"
   ]
  },
  {
   "cell_type": "code",
   "execution_count": 29,
   "id": "056951c7-b333-41cd-a760-fcd8d0a94d0d",
   "metadata": {},
   "outputs": [
    {
     "data": {
      "text/plain": [
       "{'12,04,2023'}"
      ]
     },
     "execution_count": 29,
     "metadata": {},
     "output_type": "execute_result"
    }
   ],
   "source": [
    "d6[\"lunch_date\"]"
   ]
  },
  {
   "cell_type": "code",
   "execution_count": 30,
   "id": "742918f9-efbb-4f41-8caf-008f417498d4",
   "metadata": {},
   "outputs": [
    {
     "data": {
      "text/plain": [
       "{'number': [3, 4, 5, 23, 523],\n",
       " 'assignment': (3, 35, 23, 24, 21),\n",
       " 'lunch_date': {'12,04,2023'}}"
      ]
     },
     "execution_count": 30,
     "metadata": {},
     "output_type": "execute_result"
    }
   ],
   "source": [
    "d6"
   ]
  },
  {
   "cell_type": "code",
   "execution_count": null,
   "id": "560f49d4-46c8-4351-a6c6-629c781c7018",
   "metadata": {},
   "outputs": [],
   "source": [
    "d6[\"lunch_date\"][::1]"
   ]
  },
  {
   "cell_type": "code",
   "execution_count": 43,
   "id": "6716d7c2-256a-4308-8bfb-b30716c3c0c5",
   "metadata": {},
   "outputs": [
    {
     "ename": "TypeError",
     "evalue": "unhashable type: 'slice'",
     "output_type": "error",
     "traceback": [
      "\u001b[0;31m---------------------------------------------------------------------------\u001b[0m",
      "\u001b[0;31mTypeError\u001b[0m                                 Traceback (most recent call last)",
      "Cell \u001b[0;32mIn [43], line 1\u001b[0m\n\u001b[0;32m----> 1\u001b[0m \u001b[43md6\u001b[49m\u001b[43m[\u001b[49m\u001b[38;5;124;43m\"\u001b[39;49m\u001b[38;5;124;43mvalue date\u001b[39;49m\u001b[38;5;124;43m\"\u001b[39;49m\u001b[43m \u001b[49m\u001b[43m:\u001b[49m\u001b[43m \u001b[49m\u001b[38;5;124;43m\"\u001b[39;49m\u001b[38;5;124;43malways happy\u001b[39;49m\u001b[38;5;124;43m\"\u001b[39;49m\u001b[43m]\u001b[49m\n",
      "\u001b[0;31mTypeError\u001b[0m: unhashable type: 'slice'"
     ]
    }
   ],
   "source": [
    "d6[\"value date\" : \"always happy\"]"
   ]
  },
  {
   "cell_type": "code",
   "execution_count": 41,
   "id": "0b3d41e1-c602-44a7-be51-66bc1c264eea",
   "metadata": {},
   "outputs": [
    {
     "data": {
      "text/plain": [
       "{'value date': ['always happy']}"
      ]
     },
     "execution_count": 41,
     "metadata": {},
     "output_type": "execute_result"
    }
   ],
   "source": [
    "d6"
   ]
  },
  {
   "cell_type": "code",
   "execution_count": 42,
   "id": "28153b71-59b7-4e62-84ba-0ab1cba1197b",
   "metadata": {},
   "outputs": [
    {
     "data": {
      "text/plain": [
       "{'value date': ['always happy']}"
      ]
     },
     "execution_count": 42,
     "metadata": {},
     "output_type": "execute_result"
    }
   ],
   "source": [
    "d6"
   ]
  },
  {
   "cell_type": "code",
   "execution_count": 44,
   "id": "fd841926-5bc5-4c89-b588-fffad5713259",
   "metadata": {},
   "outputs": [
    {
     "data": {
      "text/plain": [
       "<function dict.keys>"
      ]
     },
     "execution_count": 44,
     "metadata": {},
     "output_type": "execute_result"
    }
   ],
   "source": [
    "d6.keys"
   ]
  },
  {
   "cell_type": "code",
   "execution_count": 45,
   "id": "b8a700f8-b057-49cd-a05b-3f2f2b13c68b",
   "metadata": {},
   "outputs": [
    {
     "data": {
      "text/plain": [
       "['value date']"
      ]
     },
     "execution_count": 45,
     "metadata": {},
     "output_type": "execute_result"
    }
   ],
   "source": [
    "list(d6.keys())"
   ]
  },
  {
   "cell_type": "code",
   "execution_count": 46,
   "id": "368cb98f-a5dc-40b1-b7e9-22f455bff5d5",
   "metadata": {},
   "outputs": [
    {
     "data": {
      "text/plain": [
       "[('value date', ['always happy'])]"
      ]
     },
     "execution_count": 46,
     "metadata": {},
     "output_type": "execute_result"
    }
   ],
   "source": [
    "list(d6.items())"
   ]
  },
  {
   "cell_type": "code",
   "execution_count": 52,
   "id": "6757bf0f-a436-413b-b7ef-2959f77d6303",
   "metadata": {},
   "outputs": [
    {
     "ename": "SyntaxError",
     "evalue": "invalid syntax (632111871.py, line 1)",
     "output_type": "error",
     "traceback": [
      "\u001b[0;36m  Cell \u001b[0;32mIn [52], line 1\u001b[0;36m\u001b[0m\n\u001b[0;31m    d6{[\"who\"]:[\"world health\"]}\u001b[0m\n\u001b[0m      ^\u001b[0m\n\u001b[0;31mSyntaxError\u001b[0m\u001b[0;31m:\u001b[0m invalid syntax\n"
     ]
    }
   ],
   "source": [
    "d6{[\"who\"]:[\"world health\"]}"
   ]
  },
  {
   "cell_type": "code",
   "execution_count": 53,
   "id": "7aaea4f8-8f92-4f2b-bedd-41b997a69933",
   "metadata": {},
   "outputs": [
    {
     "data": {
      "text/plain": [
       "{'value date': ['always happy']}"
      ]
     },
     "execution_count": 53,
     "metadata": {},
     "output_type": "execute_result"
    }
   ],
   "source": [
    "d6"
   ]
  },
  {
   "cell_type": "code",
   "execution_count": 54,
   "id": "d4ca818c-3979-4794-8d9a-b6ee04608278",
   "metadata": {},
   "outputs": [
    {
     "data": {
      "text/plain": [
       "<function dict.pop>"
      ]
     },
     "execution_count": 54,
     "metadata": {},
     "output_type": "execute_result"
    }
   ],
   "source": [
    "d6.pop"
   ]
  },
  {
   "cell_type": "code",
   "execution_count": 55,
   "id": "3bc60c4a-af7d-4e84-bdf0-5ead675a82d5",
   "metadata": {},
   "outputs": [
    {
     "data": {
      "text/plain": [
       "{'value date': ['always happy']}"
      ]
     },
     "execution_count": 55,
     "metadata": {},
     "output_type": "execute_result"
    }
   ],
   "source": [
    "d6"
   ]
  },
  {
   "cell_type": "code",
   "execution_count": 63,
   "id": "6326e14e-4092-4f87-bd64-81076171356f",
   "metadata": {},
   "outputs": [],
   "source": [
    "ran={\"hello\":\"hello world\"}"
   ]
  },
  {
   "cell_type": "code",
   "execution_count": 64,
   "id": "f45691ba-5f13-4b2e-8392-fb899a8e3884",
   "metadata": {},
   "outputs": [
    {
     "data": {
      "text/plain": [
       "{'hello': 'hello world'}"
      ]
     },
     "execution_count": 64,
     "metadata": {},
     "output_type": "execute_result"
    }
   ],
   "source": [
    "ran"
   ]
  },
  {
   "cell_type": "code",
   "execution_count": 65,
   "id": "65107047-3930-4f6e-9877-a8e381c61421",
   "metadata": {},
   "outputs": [
    {
     "data": {
      "text/plain": [
       "'hello world'"
      ]
     },
     "execution_count": 65,
     "metadata": {},
     "output_type": "execute_result"
    }
   ],
   "source": [
    "ran['hello']"
   ]
  },
  {
   "cell_type": "code",
   "execution_count": 66,
   "id": "625f8f93-7cbb-4bdc-b495-837d64c8953f",
   "metadata": {},
   "outputs": [
    {
     "ename": "TypeError",
     "evalue": "pop expected at least 1 argument, got 0",
     "output_type": "error",
     "traceback": [
      "\u001b[0;31m---------------------------------------------------------------------------\u001b[0m",
      "\u001b[0;31mTypeError\u001b[0m                                 Traceback (most recent call last)",
      "Cell \u001b[0;32mIn [66], line 1\u001b[0m\n\u001b[0;32m----> 1\u001b[0m \u001b[43mran\u001b[49m\u001b[38;5;241;43m.\u001b[39;49m\u001b[43mpop\u001b[49m\u001b[43m(\u001b[49m\u001b[43m)\u001b[49m\n",
      "\u001b[0;31mTypeError\u001b[0m: pop expected at least 1 argument, got 0"
     ]
    }
   ],
   "source": [
    "ran.pop()"
   ]
  },
  {
   "cell_type": "code",
   "execution_count": 67,
   "id": "41ade778-f29d-42e1-9e24-98d010c7961f",
   "metadata": {},
   "outputs": [
    {
     "data": {
      "text/plain": [
       "<function dict.pop>"
      ]
     },
     "execution_count": 67,
     "metadata": {},
     "output_type": "execute_result"
    }
   ],
   "source": [
    "ran.pop"
   ]
  },
  {
   "cell_type": "code",
   "execution_count": 68,
   "id": "c9c8090d-57ff-470b-ac00-a607a83ce5ff",
   "metadata": {},
   "outputs": [
    {
     "data": {
      "text/plain": [
       "{'hello': 'hello world'}"
      ]
     },
     "execution_count": 68,
     "metadata": {},
     "output_type": "execute_result"
    }
   ],
   "source": [
    "ran"
   ]
  },
  {
   "cell_type": "code",
   "execution_count": 69,
   "id": "e43b2357-6108-4b8c-b91e-a90746acf738",
   "metadata": {},
   "outputs": [],
   "source": [
    "##batch position - good marks as 1st class, between 40-80 - 2nd class"
   ]
  },
  {
   "cell_type": "code",
   "execution_count": 82,
   "id": "ec70bbca-311b-4f6e-b907-5210fe9c46e0",
   "metadata": {},
   "outputs": [
    {
     "name": "stdout",
     "output_type": "stream",
     "text": [
      "you will be a part of A1 batch\n"
     ]
    }
   ],
   "source": [
    "marks = 65 \n",
    "if marks >= 80: print(\"you will be a part of A0 batch\")\n",
    "elif marks >= 60 and marks < 80: print(\"you will be a part of A1 batch\")\n",
    "elif marks >= 40 and marks < 60: print(\"you will be a part of A2 batch\")\n",
    "else : print(\"you will be a part of A3 batch\")\n"
   ]
  },
  {
   "cell_type": "code",
   "execution_count": 1,
   "id": "4961f539-25c6-4ba7-85f2-9c589d16f06b",
   "metadata": {},
   "outputs": [
    {
     "name": "stdout",
     "output_type": "stream",
     "text": [
      "you will be a part of A0 batch\n"
     ]
    }
   ],
   "source": [
    "marks = 87\n",
    "if marks >= 80: print(\"you will be a part of A0 batch\")\n",
    "elif marks >= 60 and marks < 80: print (\"you will be a part of A1 batch\")\n",
    "elif marks >= 40 and marks < 60: print (\"you will be a party of A2 batch\")\n",
    "else : print(\"you will be a part of A3 batch\")"
   ]
  },
  {
   "cell_type": "code",
   "execution_count": 6,
   "id": "7622e41d-66fe-4169-8249-9f52f6df6288",
   "metadata": {},
   "outputs": [
    {
     "name": "stdin",
     "output_type": "stream",
     "text": [
      "enter your marks  99\n"
     ]
    },
    {
     "name": "stdout",
     "output_type": "stream",
     "text": [
      "you will be a part of A0 batch\n"
     ]
    }
   ],
   "source": [
    "marks = int(input(\"enter your marks \"))\n",
    "if marks >= 80: \n",
    "    print(\"you will be a part of A0 batch\")\n",
    "elif marks >= 60 and marks < 80:\n",
    "    print (\"you will be a part of A1 batch\")\n",
    "elif marks >= 40 and marks < 60 :\n",
    "        print (\"you will be a part of A2 batch\")\n",
    "else :\n",
    "            print(\"you will be a part of A3 batch\")"
   ]
  },
  {
   "cell_type": "code",
   "execution_count": 12,
   "id": "0ffd6824-25ce-45db-950f-c9db8e229935",
   "metadata": {},
   "outputs": [
    {
     "name": "stdin",
     "output_type": "stream",
     "text": [
      "enter your marks  33\n"
     ]
    },
    {
     "name": "stdout",
     "output_type": "stream",
     "text": [
      "you will be a part of A3 batch\n"
     ]
    }
   ],
   "source": [
    "marks = int(input(\"enter your marks \"))\n",
    "if marks >= 80:\n",
    "    print (\"you will be a party of A0 batch\")\n",
    "elif marks >= 60 and marks < 80:\n",
    "    print (\"you will be a party of A1 batch\")\n",
    "elif marks >= 40 and marks < 60 :\n",
    "    print (\"you will be a part of A3 batch\")\n",
    "else : \n",
    "    print (\"you will be a part of A3 batch\")"
   ]
  },
  {
   "cell_type": "code",
   "execution_count": 9,
   "id": "c0e5a267-ec50-4a69-8e00-45a307e8784e",
   "metadata": {},
   "outputs": [
    {
     "name": "stdin",
     "output_type": "stream",
     "text": [
      "enter your mark  82\n"
     ]
    }
   ],
   "source": [
    "marks = int(input(\"enter your mark \"))"
   ]
  },
  {
   "cell_type": "code",
   "execution_count": 14,
   "id": "c38aed9f-5f45-4e6e-950f-1c1fbcf00202",
   "metadata": {},
   "outputs": [
    {
     "name": "stdin",
     "output_type": "stream",
     "text": [
      "enter your marks  56\n"
     ]
    },
    {
     "name": "stdout",
     "output_type": "stream",
     "text": [
      "you will be part of A2 batch\n"
     ]
    }
   ],
   "source": [
    "marks = int(input(\"enter your marks \"))\n",
    "if marks >= 80:\n",
    "    print (\"you will be part of A0 batch\")\n",
    "elif marks >= 60 and marks <80:\n",
    "    print (\"you will be part of A1 batch\")\n",
    "elif marks >= 40 and marks <60:\n",
    "    print (\"you will be part of A2 batch\")\n",
    "else :\n",
    "    print (\"you will be a part of A3 batch\")"
   ]
  },
  {
   "cell_type": "code",
   "execution_count": 10,
   "id": "bf2f586a-9bda-46f5-9c30-3b1e97e22b4b",
   "metadata": {},
   "outputs": [
    {
     "data": {
      "text/plain": [
       "int"
      ]
     },
     "execution_count": 10,
     "metadata": {},
     "output_type": "execute_result"
    }
   ],
   "source": [
    "type(marks)"
   ]
  },
  {
   "cell_type": "code",
   "execution_count": 17,
   "id": "2ae7847a-a050-43a7-8bca-d2aeb1d2c4c2",
   "metadata": {},
   "outputs": [
    {
     "name": "stdin",
     "output_type": "stream",
     "text": [
      "enter price 6543\n"
     ]
    },
    {
     "name": "stdout",
     "output_type": "stream",
     "text": [
      "i will not purchase\n"
     ]
    }
   ],
   "source": [
    "price = int(input(\"enter price\"))\n",
    "if price > 1000:\n",
    "    print (\"i will not purchase\")\n",
    "else :\n",
    "    print (\"i will purchase\")"
   ]
  },
  {
   "cell_type": "code",
   "execution_count": 18,
   "id": "621cffbf-15f2-4c01-9a90-e209aef3f39c",
   "metadata": {},
   "outputs": [],
   "source": [
    "l = [1,2,3,4,5,6,7,8,9]"
   ]
  },
  {
   "cell_type": "code",
   "execution_count": 19,
   "id": "9534a023-a3ad-4e1e-8151-7bf27e146111",
   "metadata": {},
   "outputs": [
    {
     "name": "stdout",
     "output_type": "stream",
     "text": [
      "1\n",
      "2\n",
      "3\n",
      "4\n",
      "5\n",
      "6\n",
      "7\n",
      "8\n",
      "9\n"
     ]
    }
   ],
   "source": [
    "for i in l : \n",
    "    print(i)"
   ]
  },
  {
   "cell_type": "code",
   "execution_count": 20,
   "id": "e4cf2f2f-017f-43d7-bd9c-04941da6891f",
   "metadata": {},
   "outputs": [
    {
     "data": {
      "text/plain": [
       "list"
      ]
     },
     "execution_count": 20,
     "metadata": {},
     "output_type": "execute_result"
    }
   ],
   "source": [
    "type(l)"
   ]
  },
  {
   "cell_type": "code",
   "execution_count": 21,
   "id": "c2047409-1cd9-4926-9954-d0f461e36e68",
   "metadata": {},
   "outputs": [
    {
     "name": "stdout",
     "output_type": "stream",
     "text": [
      "[1, 2, 3, 4, 5, 6, 7, 8, 9]\n"
     ]
    }
   ],
   "source": [
    "print (l)"
   ]
  },
  {
   "cell_type": "code",
   "execution_count": 22,
   "id": "426cda5d-8907-47b1-8f60-7e78ac412623",
   "metadata": {},
   "outputs": [
    {
     "name": "stdout",
     "output_type": "stream",
     "text": [
      "9\n"
     ]
    }
   ],
   "source": [
    "print (i)"
   ]
  },
  {
   "cell_type": "code",
   "execution_count": 3,
   "id": "802a8ebd-c6b5-4919-87ad-923fa75e9445",
   "metadata": {},
   "outputs": [
    {
     "name": "stdin",
     "output_type": "stream",
     "text": [
      "enter marks 22\n"
     ]
    },
    {
     "name": "stdout",
     "output_type": "stream",
     "text": [
      "you are seleced for A3 Grade\n"
     ]
    }
   ],
   "source": [
    "marks = int(input(\"enter marks\"))\n",
    "if marks >=80:\n",
    "    print (\"you are selected for A0 Grade\")\n",
    "elif marks >=60 and marks <80:\n",
    "    print (\"you are seleced for A1 Grade\")\n",
    "elif marks >=40 and marks <60:\n",
    "    print (\"you are selected for A2 Grade\")\n",
    "else :\n",
    "    print (\"you are seleced for A3 Grade\")"
   ]
  },
  {
   "cell_type": "code",
   "execution_count": 6,
   "id": "4bfbea31-a893-4615-88f4-4579d6cfe94d",
   "metadata": {},
   "outputs": [
    {
     "name": "stdin",
     "output_type": "stream",
     "text": [
      "enter your marks here  22\n"
     ]
    },
    {
     "name": "stdout",
     "output_type": "stream",
     "text": [
      "you have gote thess then 65 percent marks\n"
     ]
    }
   ],
   "source": [
    "marks = int(input(\"enter your marks here \"))\n",
    "if marks >= 80:\n",
    "    print (\"you have gote more then 80 percent marks\")\n",
    "elif marks >=65 and marks <80:\n",
    "    print (\"you have gote more then 65 percent marks\")\n",
    "else :\n",
    "    print (\"you have gote thess then 65 percent marks\")"
   ]
  },
  {
   "cell_type": "code",
   "execution_count": 8,
   "id": "3e96fe48-58a2-459e-89de-fa64822be54b",
   "metadata": {},
   "outputs": [
    {
     "name": "stdin",
     "output_type": "stream",
     "text": [
      "enter your marks here 22\n"
     ]
    },
    {
     "name": "stdout",
     "output_type": "stream",
     "text": [
      "you got less then 80 percent marks\n"
     ]
    }
   ],
   "source": [
    "marks = int(input(\"enter your marks here\"))\n",
    "if marks >= 80:\n",
    "    print (\"you have gote more then 80 percenet marks\")\n",
    "else :\n",
    "    print (\"you got less then 80 percent marks\")"
   ]
  },
  {
   "cell_type": "code",
   "execution_count": 12,
   "id": "66f9b572-af04-4b72-8570-7e1a71a50e33",
   "metadata": {},
   "outputs": [
    {
     "name": "stdin",
     "output_type": "stream",
     "text": [
      "enter your marks here 78\n"
     ]
    },
    {
     "name": "stdout",
     "output_type": "stream",
     "text": [
      "you have between 75 to 80 percent marks\n"
     ]
    }
   ],
   "source": [
    "marks = int(input(\"enter your marks here\"))\n",
    "if marks >= 80:\n",
    "    print(\"you have got more then 80 percent marks\")\n",
    "elif marks >=75 and marks <80:\n",
    "    print (\"you have between 75 to 80 percent marks\")\n",
    "elif marks >=65 and marks <75:\n",
    "    print (\"you have been received between 65 to 75 percent marks\")\n",
    "else :\n",
    "    print (\"you have received less then 65 percent marks\")"
   ]
  },
  {
   "cell_type": "code",
   "execution_count": 13,
   "id": "787009fa-1e25-4610-9891-107ded07156f",
   "metadata": {},
   "outputs": [
    {
     "name": "stdin",
     "output_type": "stream",
     "text": [
      "enter your marks here 33\n"
     ]
    },
    {
     "name": "stdout",
     "output_type": "stream",
     "text": [
      "you have been received less then 65 percent marks take Ms. Jansey Ma'am tutions\n"
     ]
    }
   ],
   "source": [
    "marks = int(input(\"enter your marks here\"))\n",
    "if marks >= 80:\n",
    "    print (\"you have been received marks more then 80 percent\")\n",
    "elif marks >=65 and marks <80:\n",
    "    print (\"you have been recceeived marks more the 65 percent marks\")\n",
    "else :\n",
    "    print (\"you have been received less then 65 percent marks take Ms. Jansey Ma'am tutions\")"
   ]
  },
  {
   "cell_type": "code",
   "execution_count": 15,
   "id": "2a65ea2d-6f2b-4843-a7b1-e00ed78ff196",
   "metadata": {},
   "outputs": [
    {
     "name": "stdin",
     "output_type": "stream",
     "text": [
      "enter your marks here 22\n"
     ]
    },
    {
     "name": "stdout",
     "output_type": "stream",
     "text": [
      "you have got less marks\n"
     ]
    }
   ],
   "source": [
    "marks = int(input(\"enter your marks here\"))\n",
    "if marks >= 80:\n",
    "    print (\"you have got more the 80 percenet marks\")\n",
    "elif marks >= 45 and marks <80:\n",
    "    print (\"you have got betweeen 45 to 80 percent marks\")\n",
    "else :\n",
    "    print (\"you have got less marks\")"
   ]
  },
  {
   "cell_type": "code",
   "execution_count": 2,
   "id": "d9378ab8-63a9-4702-8d1d-fc77f09216e3",
   "metadata": {},
   "outputs": [
    {
     "name": "stdin",
     "output_type": "stream",
     "text": [
      "enter your marks here 33\n"
     ]
    },
    {
     "name": "stdout",
     "output_type": "stream",
     "text": [
      "you got less marks\n"
     ]
    }
   ],
   "source": [
    "marks = int(input(\"enter your marks here\"))\n",
    "if marks >= 80:\n",
    "    print (\"you have got more then 80 percent marks\")\n",
    "elif marks >= 60 and marks <80:\n",
    "    print (\"you have got more then 60 but less then 80\")\n",
    "else :\n",
    "    print (\"you got less marks\")"
   ]
  },
  {
   "cell_type": "code",
   "execution_count": 4,
   "id": "df9c96ad-206b-4064-8dcb-75fe3cf53212",
   "metadata": {},
   "outputs": [],
   "source": [
    "d6= {\"number\" : [2,3,4,5] , \"assignment\" : (1,2,3,4,56,6)}"
   ]
  },
  {
   "cell_type": "code",
   "execution_count": 5,
   "id": "4c459586-b475-4e85-846c-4af9b18539a7",
   "metadata": {},
   "outputs": [
    {
     "data": {
      "text/plain": [
       "{'number': [2, 3, 4, 5], 'assignment': (1, 2, 3, 4, 56, 6)}"
      ]
     },
     "execution_count": 5,
     "metadata": {},
     "output_type": "execute_result"
    }
   ],
   "source": [
    "d6"
   ]
  },
  {
   "cell_type": "code",
   "execution_count": 6,
   "id": "3a1f7085-1453-411c-8712-c1663cc7e824",
   "metadata": {},
   "outputs": [
    {
     "ename": "TypeError",
     "evalue": "'dict' object is not callable",
     "output_type": "error",
     "traceback": [
      "\u001b[0;31m---------------------------------------------------------------------------\u001b[0m",
      "\u001b[0;31mTypeError\u001b[0m                                 Traceback (most recent call last)",
      "Cell \u001b[0;32mIn [6], line 1\u001b[0m\n\u001b[0;32m----> 1\u001b[0m \u001b[43md6\u001b[49m\u001b[43m(\u001b[49m\u001b[38;5;241;43m2\u001b[39;49m\u001b[43m)\u001b[49m\n",
      "\u001b[0;31mTypeError\u001b[0m: 'dict' object is not callable"
     ]
    }
   ],
   "source": [
    "d6(2)"
   ]
  },
  {
   "cell_type": "code",
   "execution_count": 7,
   "id": "1faaff40-44d2-46ea-8fbf-08454d6cd7d4",
   "metadata": {},
   "outputs": [
    {
     "ename": "TypeError",
     "evalue": "'dict' object is not callable",
     "output_type": "error",
     "traceback": [
      "\u001b[0;31m---------------------------------------------------------------------------\u001b[0m",
      "\u001b[0;31mTypeError\u001b[0m                                 Traceback (most recent call last)",
      "Cell \u001b[0;32mIn [7], line 1\u001b[0m\n\u001b[0;32m----> 1\u001b[0m \u001b[43md6\u001b[49m\u001b[43m(\u001b[49m\u001b[38;5;241;43m1\u001b[39;49m\u001b[43m)\u001b[49m\n",
      "\u001b[0;31mTypeError\u001b[0m: 'dict' object is not callable"
     ]
    }
   ],
   "source": [
    "d6(1)"
   ]
  },
  {
   "cell_type": "code",
   "execution_count": 10,
   "id": "5b0e2e5c-8815-452d-ac3f-745155febdd9",
   "metadata": {},
   "outputs": [],
   "source": [
    "d6:\"assignment\""
   ]
  },
  {
   "cell_type": "code",
   "execution_count": 11,
   "id": "18fcb599-c21f-47b2-b3d5-62dd98fff801",
   "metadata": {},
   "outputs": [],
   "source": [
    "d6['mentor'] = [\"lucky\", \"krish\",\"sudhanshu\"]"
   ]
  },
  {
   "cell_type": "code",
   "execution_count": 12,
   "id": "01638008-067e-4469-baf5-a96511a6cea7",
   "metadata": {},
   "outputs": [
    {
     "data": {
      "text/plain": [
       "{'number': [2, 3, 4, 5],\n",
       " 'assignment': (1, 2, 3, 4, 56, 6),\n",
       " 'mentor': ['lucky', 'krish', 'sudhanshu']}"
      ]
     },
     "execution_count": 12,
     "metadata": {},
     "output_type": "execute_result"
    }
   ],
   "source": [
    "d6"
   ]
  },
  {
   "cell_type": "code",
   "execution_count": 13,
   "id": "ac379dd6-b960-4db1-8763-587dbea64f69",
   "metadata": {},
   "outputs": [
    {
     "ename": "TypeError",
     "evalue": "'dict' object is not callable",
     "output_type": "error",
     "traceback": [
      "\u001b[0;31m---------------------------------------------------------------------------\u001b[0m",
      "\u001b[0;31mTypeError\u001b[0m                                 Traceback (most recent call last)",
      "Cell \u001b[0;32mIn [13], line 1\u001b[0m\n\u001b[0;32m----> 1\u001b[0m \u001b[43md6\u001b[49m\u001b[43m(\u001b[49m\u001b[43m)\u001b[49m\n",
      "\u001b[0;31mTypeError\u001b[0m: 'dict' object is not callable"
     ]
    }
   ],
   "source": [
    "d6()"
   ]
  },
  {
   "cell_type": "code",
   "execution_count": 14,
   "id": "18cdde60-c545-4d03-aa95-017ef1901bce",
   "metadata": {},
   "outputs": [
    {
     "ename": "TypeError",
     "evalue": "'dict' object is not callable",
     "output_type": "error",
     "traceback": [
      "\u001b[0;31m---------------------------------------------------------------------------\u001b[0m",
      "\u001b[0;31mTypeError\u001b[0m                                 Traceback (most recent call last)",
      "Cell \u001b[0;32mIn [14], line 1\u001b[0m\n\u001b[0;32m----> 1\u001b[0m \u001b[43md6\u001b[49m\u001b[43m(\u001b[49m\u001b[38;5;28;43mtype\u001b[39;49m\u001b[43m)\u001b[49m\n",
      "\u001b[0;31mTypeError\u001b[0m: 'dict' object is not callable"
     ]
    }
   ],
   "source": [
    "d6(type)"
   ]
  },
  {
   "cell_type": "code",
   "execution_count": 16,
   "id": "15abce5f-b147-4d5a-b3de-9376b7801333",
   "metadata": {},
   "outputs": [],
   "source": [
    "d6 : \"number\""
   ]
  },
  {
   "cell_type": "code",
   "execution_count": 17,
   "id": "c8ef193d-dc6a-4eed-997e-0624df0fdc1b",
   "metadata": {},
   "outputs": [
    {
     "data": {
      "text/plain": [
       "{'number': [2, 3, 4, 5],\n",
       " 'assignment': (1, 2, 3, 4, 56, 6),\n",
       " 'mentor': ['lucky', 'krish', 'sudhanshu']}"
      ]
     },
     "execution_count": 17,
     "metadata": {},
     "output_type": "execute_result"
    }
   ],
   "source": [
    "d6"
   ]
  },
  {
   "cell_type": "code",
   "execution_count": 18,
   "id": "5ba87d81-20d5-44f8-a5ca-fb516ddae4c6",
   "metadata": {},
   "outputs": [],
   "source": [
    "del d6[\"number\"]"
   ]
  },
  {
   "cell_type": "code",
   "execution_count": 19,
   "id": "cbdd4ee9-5465-46ba-bce3-4ff06b42b5d5",
   "metadata": {},
   "outputs": [
    {
     "data": {
      "text/plain": [
       "{'assignment': (1, 2, 3, 4, 56, 6), 'mentor': ['lucky', 'krish', 'sudhanshu']}"
      ]
     },
     "execution_count": 19,
     "metadata": {},
     "output_type": "execute_result"
    }
   ],
   "source": [
    "d6"
   ]
  },
  {
   "cell_type": "code",
   "execution_count": 20,
   "id": "d3233c79-d408-4f66-839e-140caeb3073a",
   "metadata": {},
   "outputs": [
    {
     "data": {
      "text/plain": [
       "<function dict.fromkeys(iterable, value=None, /)>"
      ]
     },
     "execution_count": 20,
     "metadata": {},
     "output_type": "execute_result"
    }
   ],
   "source": [
    "d6.fromkeys"
   ]
  },
  {
   "cell_type": "code",
   "execution_count": 21,
   "id": "dad103a9-dec1-48d0-9259-06f0ed5d3830",
   "metadata": {},
   "outputs": [
    {
     "data": {
      "text/plain": [
       "dict_keys(['assignment', 'mentor'])"
      ]
     },
     "execution_count": 21,
     "metadata": {},
     "output_type": "execute_result"
    }
   ],
   "source": [
    "d6.keys()"
   ]
  },
  {
   "cell_type": "code",
   "execution_count": 22,
   "id": "ce2cf33a-be4f-4b59-ac89-0db829d4b8d9",
   "metadata": {},
   "outputs": [
    {
     "data": {
      "text/plain": [
       "['assignment', 'mentor']"
      ]
     },
     "execution_count": 22,
     "metadata": {},
     "output_type": "execute_result"
    }
   ],
   "source": [
    "list(d6.keys())"
   ]
  },
  {
   "cell_type": "code",
   "execution_count": 23,
   "id": "009344e9-a27c-47d4-90e0-61b426ef9a09",
   "metadata": {},
   "outputs": [
    {
     "ename": "TypeError",
     "evalue": "'dict' object is not callable",
     "output_type": "error",
     "traceback": [
      "\u001b[0;31m---------------------------------------------------------------------------\u001b[0m",
      "\u001b[0;31mTypeError\u001b[0m                                 Traceback (most recent call last)",
      "Cell \u001b[0;32mIn [23], line 1\u001b[0m\n\u001b[0;32m----> 1\u001b[0m \u001b[43md6\u001b[49m\u001b[43m(\u001b[49m\u001b[38;5;28;43mtype\u001b[39;49m\u001b[43m)\u001b[49m\n",
      "\u001b[0;31mTypeError\u001b[0m: 'dict' object is not callable"
     ]
    }
   ],
   "source": [
    "d6(type)"
   ]
  },
  {
   "cell_type": "code",
   "execution_count": 24,
   "id": "eb33ae63-3575-4054-9e45-a5abe9e60495",
   "metadata": {},
   "outputs": [
    {
     "data": {
      "text/plain": [
       "dict"
      ]
     },
     "execution_count": 24,
     "metadata": {},
     "output_type": "execute_result"
    }
   ],
   "source": [
    "type(d6)"
   ]
  },
  {
   "cell_type": "code",
   "execution_count": 25,
   "id": "ab164fda-7823-4055-86db-7e116733c99d",
   "metadata": {},
   "outputs": [
    {
     "ename": "AttributeError",
     "evalue": "'dict' object has no attribute 'item'",
     "output_type": "error",
     "traceback": [
      "\u001b[0;31m---------------------------------------------------------------------------\u001b[0m",
      "\u001b[0;31mAttributeError\u001b[0m                            Traceback (most recent call last)",
      "Cell \u001b[0;32mIn [25], line 1\u001b[0m\n\u001b[0;32m----> 1\u001b[0m \u001b[43md6\u001b[49m\u001b[38;5;241;43m.\u001b[39;49m\u001b[43mitem\u001b[49m()\n",
      "\u001b[0;31mAttributeError\u001b[0m: 'dict' object has no attribute 'item'"
     ]
    }
   ],
   "source": [
    "d6.item()"
   ]
  },
  {
   "cell_type": "code",
   "execution_count": 26,
   "id": "4ae4c4f8-fba9-4963-a947-34b71702bcf9",
   "metadata": {},
   "outputs": [
    {
     "ename": "AttributeError",
     "evalue": "'dict' object has no attribute 'iteam'",
     "output_type": "error",
     "traceback": [
      "\u001b[0;31m---------------------------------------------------------------------------\u001b[0m",
      "\u001b[0;31mAttributeError\u001b[0m                            Traceback (most recent call last)",
      "Cell \u001b[0;32mIn [26], line 1\u001b[0m\n\u001b[0;32m----> 1\u001b[0m \u001b[38;5;28mlist\u001b[39m(\u001b[43md6\u001b[49m\u001b[38;5;241;43m.\u001b[39;49m\u001b[43miteam\u001b[49m())\n",
      "\u001b[0;31mAttributeError\u001b[0m: 'dict' object has no attribute 'iteam'"
     ]
    }
   ],
   "source": [
    "list(d6.iteam())"
   ]
  },
  {
   "cell_type": "code",
   "execution_count": 27,
   "id": "02a45ddd-63a5-4449-a6b3-c81634a73cc1",
   "metadata": {},
   "outputs": [
    {
     "data": {
      "text/plain": [
       "(1, 2, 3, 4, 56, 6)"
      ]
     },
     "execution_count": 27,
     "metadata": {},
     "output_type": "execute_result"
    }
   ],
   "source": [
    "d6.pop(\"assignment\")"
   ]
  },
  {
   "cell_type": "code",
   "execution_count": 28,
   "id": "33d54718-3674-4703-a37a-930831c868e4",
   "metadata": {},
   "outputs": [
    {
     "data": {
      "text/plain": [
       "{'mentor': ['lucky', 'krish', 'sudhanshu']}"
      ]
     },
     "execution_count": 28,
     "metadata": {},
     "output_type": "execute_result"
    }
   ],
   "source": [
    "d6"
   ]
  },
  {
   "cell_type": "code",
   "execution_count": 30,
   "id": "17ac64b1-5ca5-43c5-9060-f0601f890928",
   "metadata": {},
   "outputs": [],
   "source": [
    "d6[\"assignment\"] : [\"hello\", \"how are you\"]"
   ]
  },
  {
   "cell_type": "code",
   "execution_count": 31,
   "id": "641635ee-a857-447f-b688-1b1c1f0bc8ca",
   "metadata": {},
   "outputs": [
    {
     "data": {
      "text/plain": [
       "{'mentor': ['lucky', 'krish', 'sudhanshu']}"
      ]
     },
     "execution_count": 31,
     "metadata": {},
     "output_type": "execute_result"
    }
   ],
   "source": [
    "d6"
   ]
  },
  {
   "cell_type": "code",
   "execution_count": 32,
   "id": "694d88f0-f046-4eae-ab78-7ec1760ad8bb",
   "metadata": {},
   "outputs": [
    {
     "data": {
      "text/plain": [
       "dict"
      ]
     },
     "execution_count": 32,
     "metadata": {},
     "output_type": "execute_result"
    }
   ],
   "source": [
    "type(d6)"
   ]
  },
  {
   "cell_type": "code",
   "execution_count": 33,
   "id": "40ba09c0-4ee6-4040-aece-fb0b25a230d5",
   "metadata": {},
   "outputs": [
    {
     "data": {
      "text/plain": [
       "{'mentor': ['lucky', 'krish', 'sudhanshu']}"
      ]
     },
     "execution_count": 33,
     "metadata": {},
     "output_type": "execute_result"
    }
   ],
   "source": [
    "d6"
   ]
  },
  {
   "cell_type": "code",
   "execution_count": 39,
   "id": "c1a7fd61-61dc-47af-8104-ed2c295bd1f7",
   "metadata": {},
   "outputs": [
    {
     "name": "stdin",
     "output_type": "stream",
     "text": [
      "enter price  7873\n"
     ]
    },
    {
     "name": "stdout",
     "output_type": "stream",
     "text": [
      "price not suitable\n",
      "this is too much price\n"
     ]
    }
   ],
   "source": [
    "price = int(input(\"enter price \"))\n",
    "if price > 1000:\n",
    "    print(\"price not suitable\")\n",
    "    if price > 5000:\n",
    "        print(\"this is too much price\")\n",
    "else:\n",
    "    print(\"its purchasable\")"
   ]
  },
  {
   "cell_type": "code",
   "execution_count": 40,
   "id": "0b1a371d-b4d3-4545-a75f-a26fd5f2a1d1",
   "metadata": {},
   "outputs": [],
   "source": [
    "l= [1,2,4,56,2,12,5,7,3,12,6,4,23,345,56]"
   ]
  },
  {
   "cell_type": "code",
   "execution_count": 41,
   "id": "c6fa8abe-3360-4e13-b2ed-cab6fada00e1",
   "metadata": {},
   "outputs": [
    {
     "data": {
      "text/plain": [
       "2"
      ]
     },
     "execution_count": 41,
     "metadata": {},
     "output_type": "execute_result"
    }
   ],
   "source": [
    "l[0] + 1"
   ]
  },
  {
   "cell_type": "code",
   "execution_count": 42,
   "id": "02b28315-5808-4aad-906a-0cb456dd509c",
   "metadata": {},
   "outputs": [
    {
     "data": {
      "text/plain": [
       "[1, 2, 4, 56, 2, 12, 5, 7, 3, 12, 6, 4, 23, 345, 56]"
      ]
     },
     "execution_count": 42,
     "metadata": {},
     "output_type": "execute_result"
    }
   ],
   "source": [
    "l"
   ]
  },
  {
   "cell_type": "code",
   "execution_count": 43,
   "id": "dd26a726-0461-441a-940b-102c994eaebd",
   "metadata": {},
   "outputs": [
    {
     "name": "stdout",
     "output_type": "stream",
     "text": [
      "1\n",
      "2\n",
      "4\n",
      "56\n",
      "2\n",
      "12\n",
      "5\n",
      "7\n",
      "3\n",
      "12\n",
      "6\n",
      "4\n",
      "23\n",
      "345\n",
      "56\n"
     ]
    }
   ],
   "source": [
    "for i in l :\n",
    "    print (i)"
   ]
  },
  {
   "cell_type": "code",
   "execution_count": 44,
   "id": "86ef94de-2894-45e6-8bb0-8496a635a8ee",
   "metadata": {},
   "outputs": [
    {
     "name": "stdout",
     "output_type": "stream",
     "text": [
      "[1, 2, 4, 56, 2, 12, 5, 7, 3, 12, 6, 4, 23, 345, 56]\n"
     ]
    }
   ],
   "source": [
    "print (l)"
   ]
  },
  {
   "cell_type": "code",
   "execution_count": 47,
   "id": "65be2d75-7ab6-487d-bb40-7d4e3a414885",
   "metadata": {},
   "outputs": [],
   "source": [
    "l2 = [\" hello friends\", \"this is lucky\", \"how are you\" ]"
   ]
  },
  {
   "cell_type": "code",
   "execution_count": 48,
   "id": "267bb677-d76a-4851-9a24-b9d273ab6ad1",
   "metadata": {},
   "outputs": [
    {
     "name": "stdout",
     "output_type": "stream",
     "text": [
      "[' hello friends', 'this is lucky', 'how are you']\n"
     ]
    }
   ],
   "source": [
    "print (l2)"
   ]
  },
  {
   "cell_type": "code",
   "execution_count": 49,
   "id": "52437806-80cc-4401-b08b-d36c9292f36a",
   "metadata": {},
   "outputs": [
    {
     "name": "stdout",
     "output_type": "stream",
     "text": [
      " hello friends\n",
      "this is lucky\n",
      "how are you\n"
     ]
    }
   ],
   "source": [
    "for lucky in l2 :\n",
    "    print (lucky)"
   ]
  },
  {
   "cell_type": "code",
   "execution_count": 52,
   "id": "4061846d-19e0-48f4-a129-b8c5c816f26e",
   "metadata": {},
   "outputs": [
    {
     "name": "stdout",
     "output_type": "stream",
     "text": [
      "2\n",
      "3\n",
      "5\n",
      "57\n",
      "3\n",
      "13\n",
      "6\n",
      "8\n",
      "4\n",
      "13\n",
      "7\n",
      "5\n",
      "24\n",
      "346\n",
      "57\n"
     ]
    },
    {
     "data": {
      "text/plain": [
       "[2, 3, 5, 57, 3, 13, 6, 8, 4, 13, 7, 5, 24, 346, 57]"
      ]
     },
     "execution_count": 52,
     "metadata": {},
     "output_type": "execute_result"
    }
   ],
   "source": [
    "l3 = []\n",
    "for i in l :\n",
    "    print (i+1)\n",
    "    l3.append(i+1)\n",
    "l3"
   ]
  },
  {
   "cell_type": "code",
   "execution_count": 53,
   "id": "8d8d4bd6-d59c-4570-9973-bce80aef63b3",
   "metadata": {},
   "outputs": [
    {
     "ename": "NameError",
     "evalue": "name 'l1' is not defined",
     "output_type": "error",
     "traceback": [
      "\u001b[0;31m---------------------------------------------------------------------------\u001b[0m",
      "\u001b[0;31mNameError\u001b[0m                                 Traceback (most recent call last)",
      "Cell \u001b[0;32mIn [53], line 1\u001b[0m\n\u001b[0;32m----> 1\u001b[0m \u001b[43ml1\u001b[49m\n",
      "\u001b[0;31mNameError\u001b[0m: name 'l1' is not defined"
     ]
    }
   ],
   "source": [
    "l1"
   ]
  },
  {
   "cell_type": "code",
   "execution_count": 54,
   "id": "c16430bd-51e4-4487-8f0b-719039106abb",
   "metadata": {},
   "outputs": [
    {
     "data": {
      "text/plain": [
       "[2, 3, 5, 57, 3, 13, 6, 8, 4, 13, 7, 5, 24, 346, 57]"
      ]
     },
     "execution_count": 54,
     "metadata": {},
     "output_type": "execute_result"
    }
   ],
   "source": [
    "l3"
   ]
  },
  {
   "cell_type": "code",
   "execution_count": 55,
   "id": "a3309901-121e-42cb-bfca-f16f496f1abb",
   "metadata": {},
   "outputs": [],
   "source": [
    "l = [\"lucky\", \"ravi\",\"rajesh\",\"mukesh\"]"
   ]
  },
  {
   "cell_type": "code",
   "execution_count": 62,
   "id": "f04a0b5b-d5a7-4930-a652-0b2e2469de45",
   "metadata": {},
   "outputs": [
    {
     "data": {
      "text/plain": [
       "['LUCKY', 'RAVI', 'RAJESH', 'MUKESH']"
      ]
     },
     "execution_count": 62,
     "metadata": {},
     "output_type": "execute_result"
    }
   ],
   "source": [
    "l5=[]\n",
    "for raj in l :\n",
    "    l5.append(raj.upper())\n",
    "l5"
   ]
  },
  {
   "cell_type": "code",
   "execution_count": null,
   "id": "c0054a76-add3-452b-91ad-e0d9e89fdb20",
   "metadata": {},
   "outputs": [],
   "source": [
    "l6 = [4,2,2,4,2,1, \"lucky\", \"raj\", 3832, 3823.23, \"fubu\"]"
   ]
  },
  {
   "cell_type": "code",
   "execution_count": 73,
   "id": "d756d14d-37d1-4f62-a8e3-2bb03b644af6",
   "metadata": {},
   "outputs": [],
   "source": [
    "l7 = []\n",
    "l8 = []\n",
    "for lucky in l2 :\n",
    "    if type(lucky) == int or type(lucky) == float :\n",
    "        l7.append(lucky)\n",
    "    else :\n",
    "        l8.append(lucky)"
   ]
  },
  {
   "cell_type": "code",
   "execution_count": 68,
   "id": "117cfa58-6190-4bfb-8867-396d03ef2301",
   "metadata": {},
   "outputs": [
    {
     "ename": "NameError",
     "evalue": "name 'l6' is not defined",
     "output_type": "error",
     "traceback": [
      "\u001b[0;31m---------------------------------------------------------------------------\u001b[0m",
      "\u001b[0;31mNameError\u001b[0m                                 Traceback (most recent call last)",
      "Cell \u001b[0;32mIn [68], line 1\u001b[0m\n\u001b[0;32m----> 1\u001b[0m \u001b[43ml6\u001b[49m\n",
      "\u001b[0;31mNameError\u001b[0m: name 'l6' is not defined"
     ]
    }
   ],
   "source": [
    "l6"
   ]
  },
  {
   "cell_type": "code",
   "execution_count": 69,
   "id": "741b4da2-00fb-4897-adf3-441489ca36ac",
   "metadata": {},
   "outputs": [
    {
     "ename": "NameError",
     "evalue": "name 'l6' is not defined",
     "output_type": "error",
     "traceback": [
      "\u001b[0;31m---------------------------------------------------------------------------\u001b[0m",
      "\u001b[0;31mNameError\u001b[0m                                 Traceback (most recent call last)",
      "Cell \u001b[0;32mIn [69], line 1\u001b[0m\n\u001b[0;32m----> 1\u001b[0m \u001b[43ml6\u001b[49m()\n",
      "\u001b[0;31mNameError\u001b[0m: name 'l6' is not defined"
     ]
    }
   ],
   "source": [
    "l6()"
   ]
  },
  {
   "cell_type": "code",
   "execution_count": 70,
   "id": "2155e979-4167-44d6-a724-562e9846f0fe",
   "metadata": {},
   "outputs": [
    {
     "ename": "NameError",
     "evalue": "name 'l6' is not defined",
     "output_type": "error",
     "traceback": [
      "\u001b[0;31m---------------------------------------------------------------------------\u001b[0m",
      "\u001b[0;31mNameError\u001b[0m                                 Traceback (most recent call last)",
      "Cell \u001b[0;32mIn [70], line 1\u001b[0m\n\u001b[0;32m----> 1\u001b[0m \u001b[43ml6\u001b[49m\n",
      "\u001b[0;31mNameError\u001b[0m: name 'l6' is not defined"
     ]
    }
   ],
   "source": [
    "l6"
   ]
  },
  {
   "cell_type": "code",
   "execution_count": 71,
   "id": "66dfaf20-8c5c-4e78-a836-ca465ab13277",
   "metadata": {},
   "outputs": [
    {
     "ename": "NameError",
     "evalue": "name 'l1' is not defined",
     "output_type": "error",
     "traceback": [
      "\u001b[0;31m---------------------------------------------------------------------------\u001b[0m",
      "\u001b[0;31mNameError\u001b[0m                                 Traceback (most recent call last)",
      "Cell \u001b[0;32mIn [71], line 1\u001b[0m\n\u001b[0;32m----> 1\u001b[0m \u001b[43ml1\u001b[49m\n",
      "\u001b[0;31mNameError\u001b[0m: name 'l1' is not defined"
     ]
    }
   ],
   "source": [
    "l1"
   ]
  },
  {
   "cell_type": "code",
   "execution_count": 72,
   "id": "a244751c-84c7-47cd-acd9-76a43e8ff567",
   "metadata": {},
   "outputs": [
    {
     "data": {
      "text/plain": [
       "[' hello friends', 'this is lucky', 'how are you']"
      ]
     },
     "execution_count": 72,
     "metadata": {},
     "output_type": "execute_result"
    }
   ],
   "source": [
    "l2"
   ]
  },
  {
   "cell_type": "code",
   "execution_count": 2,
   "id": "5c4cdc59-adbb-4d59-8147-fdf8ec4d4764",
   "metadata": {},
   "outputs": [
    {
     "ename": "NameError",
     "evalue": "name 'l2' is not defined",
     "output_type": "error",
     "traceback": [
      "\u001b[0;31m---------------------------------------------------------------------------\u001b[0m",
      "\u001b[0;31mNameError\u001b[0m                                 Traceback (most recent call last)",
      "Cell \u001b[0;32mIn [2], line 3\u001b[0m\n\u001b[1;32m      1\u001b[0m l7 \u001b[38;5;241m=\u001b[39m []\n\u001b[1;32m      2\u001b[0m l8 \u001b[38;5;241m=\u001b[39m []\n\u001b[0;32m----> 3\u001b[0m \u001b[38;5;28;01mfor\u001b[39;00m (lucky) \u001b[38;5;129;01min\u001b[39;00m \u001b[43ml2\u001b[49m :\n\u001b[1;32m      4\u001b[0m     \u001b[38;5;28;01mif\u001b[39;00m \u001b[38;5;28mtype\u001b[39m(lucky) \u001b[38;5;241m==\u001b[39m \u001b[38;5;28mint\u001b[39m \u001b[38;5;129;01mor\u001b[39;00m \u001b[38;5;28mtype\u001b[39m(lucky) \u001b[38;5;241m==\u001b[39m \u001b[38;5;28mfloat\u001b[39m :\n\u001b[1;32m      5\u001b[0m         l7\u001b[38;5;241m.\u001b[39mappend(lucky)\n",
      "\u001b[0;31mNameError\u001b[0m: name 'l2' is not defined"
     ]
    }
   ],
   "source": [
    "l7 = []\n",
    "l8 = []\n",
    "for (lucky) in l2 :\n",
    "    if type(lucky) == int or type(lucky) == float :\n",
    "        l7.append(lucky)\n",
    "    else :\n",
    "        l8.append(lucky)"
   ]
  },
  {
   "cell_type": "code",
   "execution_count": null,
   "id": "8d513103-8896-418c-93fd-107b48c8e043",
   "metadata": {},
   "outputs": [],
   "source": []
  }
 ],
 "metadata": {
  "kernelspec": {
   "display_name": "Python 3 (ipykernel)",
   "language": "python",
   "name": "python3"
  },
  "language_info": {
   "codemirror_mode": {
    "name": "ipython",
    "version": 3
   },
   "file_extension": ".py",
   "mimetype": "text/x-python",
   "name": "python",
   "nbconvert_exporter": "python",
   "pygments_lexer": "ipython3",
   "version": "3.10.6"
  }
 },
 "nbformat": 4,
 "nbformat_minor": 5
}
