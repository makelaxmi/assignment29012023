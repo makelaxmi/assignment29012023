{
 "cells": [
  {
   "cell_type": "code",
   "execution_count": 1,
   "id": "2692395a-7fa9-4246-b308-e699f6e43306",
   "metadata": {},
   "outputs": [],
   "source": [
    "## Python Assignment"
   ]
  },
  {
   "cell_type": "code",
   "execution_count": 2,
   "id": "0a40f1f3-ad8e-4ef5-8220-7d928ef9d51d",
   "metadata": {},
   "outputs": [],
   "source": [
    "## Date : 29th Jan 2023"
   ]
  },
  {
   "cell_type": "code",
   "execution_count": 3,
   "id": "0261772e-f473-44a9-8d67-1c25acb12abb",
   "metadata": {},
   "outputs": [],
   "source": [
    "# Who developed python programming Language ?"
   ]
  },
  {
   "cell_type": "code",
   "execution_count": 9,
   "id": "fdc9401a-d5ec-464c-9558-6006da205f5b",
   "metadata": {},
   "outputs": [],
   "source": [
    "## Ans : Python programming language was created by Guido van Rossum in the late 1980s.  \n",
    "# He started working on Python in December 1989 while at the National Research Institute \n",
    "# for Mathematics and Computer Science in the Netherlands (CWI). The language was released for the \n",
    "# first time in 1991, and Guido continued to lead its development until he retired in 2018. Since then, \n",
    "# a community of developers has continued to maintain and develop Python\n"
   ]
  },
  {
   "cell_type": "code",
   "execution_count": 10,
   "id": "48b0ba40-c572-4d27-b157-c4a91118496d",
   "metadata": {},
   "outputs": [],
   "source": [
    "# Which type of Programming does python support ?"
   ]
  },
  {
   "cell_type": "code",
   "execution_count": 11,
   "id": "eec54b60-ca7d-4d3a-94c5-bc00f0eb9eda",
   "metadata": {},
   "outputs": [],
   "source": [
    "## Ans : Python is a general-purpose programming language that supports multiple programming paradigms, including:\n",
    "\n",
    "# Procedural programming: Python supports procedural programming, which involves breaking down a program into functions or subroutines.\n",
    "# Object-oriented programming (OOP): Python supports OOP, which involves organizing code into objects that contain both data and functions.\n",
    "# Functional programming: Python supports functional programming, which involves writing programs that are based on the evaluation of mathematical functions.\n",
    "# Imperative programming: Python supports imperative programming, which involves writing programs that describe a sequence of steps to be carried out.\n",
    "# Event-driven programming: Python supports event-driven programming, which involves writing programs that respond to events, such as user actions or system events.\n",
    "# Concurrent programming: Python supports concurrent programming, which involves writing programs that can execute multiple tasks at the same time."
   ]
  },
  {
   "cell_type": "code",
   "execution_count": 12,
   "id": "774bf93e-1103-4c69-ac8f-f9c2c78e83b7",
   "metadata": {},
   "outputs": [],
   "source": [
    "# Is Python case sensitive when dealing with identifiers ?"
   ]
  },
  {
   "cell_type": "code",
   "execution_count": 13,
   "id": "e025434d-83cb-479e-9dd0-8249d2902b4d",
   "metadata": {},
   "outputs": [],
   "source": [
    "## Ans : Python is a case-sensitive language, which means that it distinguishes between uppercase and lowercase letters in identifiers, such as variable names, function names, and class names.\n",
    "# For example, the identifiers my_variable, My_Variable, and MY_VARIABLE are all distinct and refer to different entities in Python. So, if you use the wrong case when referring to an identifier in your code, Python will treat it as a different entity and may raise a NameError or another type of error.\n",
    "# It's important to be consistent in your use of case when naming identifiers in Python to avoid errors and make your code more readable."
   ]
  },
  {
   "cell_type": "code",
   "execution_count": 14,
   "id": "e4d33a58-db16-4767-b054-24364a222e9c",
   "metadata": {},
   "outputs": [],
   "source": [
    "# What is the correct extension of the python file ? "
   ]
  },
  {
   "cell_type": "code",
   "execution_count": 15,
   "id": "b85eecc8-c023-443b-ba68-eee3a0c889e7",
   "metadata": {},
   "outputs": [],
   "source": [
    "# Ans : The convention for the file extension for Python scripts is .py.\n",
    "# So, when you save a Python script, you should give it a filename with the .py extension. For example, if you name your script my_script.py, you can run it from the command line by entering python my_script.py (assuming that you have Python installed on your system and the Python executable is in your system's PATH).\n",
    "# The .py extension is recognized by most text editors and integrated development environments (IDEs), so you should be able to open and edit Python files with those extensions in your preferred editor or IDE."
   ]
  },
  {
   "cell_type": "code",
   "execution_count": 16,
   "id": "78741692-2002-44a8-8fd7-175b84696477",
   "metadata": {},
   "outputs": [],
   "source": [
    "# Is python code compiled or interpreted ? "
   ]
  },
  {
   "cell_type": "code",
   "execution_count": 17,
   "id": "6a8f4e76-96a2-4f7c-871c-178a0a4865dc",
   "metadata": {},
   "outputs": [],
   "source": [
    "# Ans : Python is an interpreted language, which means that the Python code is not compiled to machine code but is instead executed by an interpreter.\n",
    "# When you run a Python program, the Python interpreter reads the source code, parses it into an internal representation, and executes the code. The interpreter compiles the source code on-the-fly into bytecode, which is a lower-level representation of the code that can be executed by the interpreter. The bytecode is then executed by the Python Virtual Machine (PVM), which is a runtime environment that interprets the bytecode and runs the program.\n",
    "# Python's interpretation process has advantages and disadvantages compared to compiled languages. One advantage of interpretation is that it allows for dynamic features such as introspection, reflection, and metaprogramming. However, interpreted languages may be slower than compiled languages because the interpreter has to parse and execute the code at runtime, whereas compiled languages typically have faster performance because the code is compiled to machine code beforehand."
   ]
  },
  {
   "cell_type": "code",
   "execution_count": 18,
   "id": "7c6a0a5f-7d04-434e-8a2e-ab2b853110cd",
   "metadata": {},
   "outputs": [],
   "source": [
    "# Name a few blocks of code used to define in python language ?"
   ]
  },
  {
   "cell_type": "code",
   "execution_count": 19,
   "id": "9fa29ca8-a24e-4c7c-8f8c-b6bc683ad0d6",
   "metadata": {},
   "outputs": [],
   "source": [
    "# Ans : if block: Used for conditional statements. The code inside this block is executed only if a specified condition is true.\n",
    "# for block: Used for iterating over a sequence (such as a list, tuple, or string) or other iterable objects.\n",
    "#  while block: Used for executing a set of statements repeatedly as long as a given condition is true.\n",
    "# def block: Used to define a function in Python. The code inside this block defines the behavior of the function when it is called.\n",
    "# class block: Used to define a class in Python. A class is a blueprint for creating objects, and the code inside this block defines the properties and methods of the class.\n",
    "# try/except block: Used for error handling. The code inside the try block is executed, and if an error occurs, the code inside the except block is executed instead.\n",
    "# with block: Used for managing resources that need to be cleaned up after use, such as file handles or database connections. The code inside this block defines the operations to be performed with the resource, and the block takes care of releasing the resource when the block is exited.\n",
    "\n",
    "\n",
    "\n"
   ]
  },
  {
   "cell_type": "code",
   "execution_count": 20,
   "id": "be3fbc10-88e2-46b0-a93c-530982bccc6d",
   "metadata": {},
   "outputs": [],
   "source": [
    "# State a character used to give single-line comments in Python ?"
   ]
  },
  {
   "cell_type": "code",
   "execution_count": 21,
   "id": "efddc177-c5ba-4981-b9f4-966d294b4748",
   "metadata": {},
   "outputs": [],
   "source": [
    "# Ans : In Python, you can give single-line comments by using the hash character (#) before the comment text. Any text that follows the hash character on the same line is treated as a comment and is ignored by the Python interpreter.\n",
    "# For example:\n",
    "# This is a single-line comment in Python\n",
    "# print(\"Hello, World!\") # This line of code will print a message to the console\n",
    "# In the example above, the first line is a single-line comment, while the second line is a Python statement that prints a message to the console. The comment does not affect the execution of the code in any way."
   ]
  },
  {
   "cell_type": "code",
   "execution_count": 22,
   "id": "04c18d9d-b3fc-42d1-90a8-831583451119",
   "metadata": {},
   "outputs": [],
   "source": [
    "# Mention functions which can help us to find the version of python that we are currently working on ?"
   ]
  },
  {
   "cell_type": "code",
   "execution_count": 23,
   "id": "12aa0f93-e259-4a85-8d30-161986aefc9e",
   "metadata": {},
   "outputs": [],
   "source": [
    "# there are a few functions in Python that you can use to find the version of Python you are currently working on. Here are some of them:\n",
    "# sys.version: This function is part of the built-in sys module and returns the version of the Python interpreter. You can call it like this:\n",
    "# import sys\n",
    "# print(sys.version)\n",
    "\n",
    "#This will print the version of Python using.\n",
    "\n",
    "# platform.python_version(): This function is part of the built-in platform module and returns the version of Python as a string. You can call it like this:\n",
    "\n",
    "# import platform\n",
    "# print(platform.python_version())\n",
    "# This will print the version of Python you are using.\n",
    "\n",
    "# Running the command python --version in the command line (or terminal on a Mac or Linux) will print the version of Python installed on your system.\n",
    "\n",
    "# Note that these methods may give slightly different results depending on your system and how Python is installed on it.\n",
    "\n"
   ]
  },
  {
   "cell_type": "code",
   "execution_count": 24,
   "id": "c7be8aa6-7c43-4b09-95c9-35e049992e46",
   "metadata": {},
   "outputs": [],
   "source": [
    "# python supports the creation of anonymous functions at runtime, unsing a construct called "
   ]
  },
  {
   "cell_type": "code",
   "execution_count": 26,
   "id": "d29e79d3-b275-40a6-a761-107fa58eb69b",
   "metadata": {},
   "outputs": [],
   "source": [
    "# Python supports the creation of anonymous functions at runtime using a construct called \"lambda\" functions.\n",
    "# A lambda function is a small, anonymous function that can have any number of arguments but can only have one expression. The syntax for defining a lambda function is as follows:\n",
    "# lambda arguments: expression\n",
    "# Here, \"arguments\" is a comma-separated list of arguments (similar to the arguments of a regular function), and \"expression\" is a single expression that is evaluated when the lambda function is called.\n",
    "# For example, here's a lambda function that squares a number:\n",
    "# square = lambda x: x ** 2\n",
    "# This lambda function takes a single argument \"x\" and returns its square. It can be called like a regular function:\n",
    "# result = square(5)\n",
    "# print(result)  # Output: 25\n",
    "# Lambda functions are useful for creating short, throwaway functions that you don't want to define using the def keyword.\n",
    "# They are often used in functional programming and in situations where you need to pass a function as an argument to another function.\n"
   ]
  },
  {
   "cell_type": "code",
   "execution_count": 27,
   "id": "1ae8efc9-f0d2-4cf8-850c-688e6a465a6e",
   "metadata": {},
   "outputs": [],
   "source": [
    "# What does pip stand for python ?"
   ]
  },
  {
   "cell_type": "code",
   "execution_count": 28,
   "id": "b026e4c9-8c40-4820-a53e-e97076ef4259",
   "metadata": {},
   "outputs": [],
   "source": [
    "# Ans : In Python, \"pip\" stands for \"Pip Installs Packages\". It is a package manager for Python that allows you to easily install and manage third-party packages and libraries. \n",
    "# Pip was first introduced in 2011 and has since become the de facto standard for installing Python packages. \n",
    "# With pip, you can install packages from the Python Package Index (PyPI) as well as from other sources such as version control repositories. \n",
    "# Pip also provides an easy way to manage package dependencies and upgrade packages to the latest versions.\n"
   ]
  },
  {
   "cell_type": "code",
   "execution_count": 29,
   "id": "9a49e6f8-ec8f-4404-971f-378792e5a69c",
   "metadata": {},
   "outputs": [],
   "source": [
    "# Mention a few built-in functions in python ?"
   ]
  },
  {
   "cell_type": "code",
   "execution_count": 30,
   "id": "ad3fdeb6-c2a0-4fda-8c77-7e42096c9e1d",
   "metadata": {},
   "outputs": [],
   "source": [
    "# Ans : here are some of the most commonly used built-in functions in Python:\n",
    "# print(): Used to display text or variables to the console or standard output.\n",
    "# input(): Used to accept user input from the console.\n",
    "# len(): Used to get the length of a string, list, or other sequence.\n",
    "# range(): Used to generate a sequence of numbers.\n",
    "# type(): Used to get the type of an object.\n",
    "# int(), float(), and str(): Used to convert variables from one data type to another.\n",
    "# sum(): Used to get the sum of a list or other iterable.\n",
    "# min() and max(): Used to get the smallest and largest values in a list or other iterable.\n",
    "# abs(): Used to get the absolute value of a number.\n",
    "# round(): Used to round a number to a specified number of decimal places.\n",
    "# These are just a few examples of the built-in functions in Python. There are many more built-in functions available, and you can also define your own functions using the def keyword."
   ]
  },
  {
   "cell_type": "code",
   "execution_count": 1,
   "id": "88c07623-a732-45ba-af08-d01649b89eae",
   "metadata": {},
   "outputs": [],
   "source": [
    "# What is the maximum possible length of an identifier in Phyton ?"
   ]
  },
  {
   "cell_type": "code",
   "execution_count": 2,
   "id": "1ed196e9-ac69-4386-aae2-01652e9cacbe",
   "metadata": {},
   "outputs": [],
   "source": [
    "# Ans : According to the PEP 8 style guide, Python code should use lowercase letters and underscores to separate words in variable and function names, with the maximum line length of 79 characters. \n",
    "#This helps to make the code more readable and maintainable.\n",
    "# In practical terms, it is rare to encounter a situation where an identifier \n",
    "# needs to be longer than a few words, and it is generally recommended to keep the length of an identifier less than 20-30 characters to maintain code readability."
   ]
  },
  {
   "cell_type": "code",
   "execution_count": 3,
   "id": "afe9a97a-de68-463b-b117-5d4cb6ca948f",
   "metadata": {},
   "outputs": [],
   "source": [
    "# What are the benefits of using Python ?"
   ]
  },
  {
   "cell_type": "code",
   "execution_count": 9,
   "id": "83c82c70-6e8d-499b-ad4c-940c56231e85",
   "metadata": {},
   "outputs": [],
   "source": [
    "# Ans : Python is a popular programming language with many benefits, including:\n",
    "\n",
    "# Easy to learn and use: Python has a simple syntax and easy-to-read code, making it an ideal language for beginners. Its clean and readable syntax reduces the cost of program maintenance and development.\n",
    "# Versatility: Python is a versatile language and can be used for a wide range of applications such as web development, scientific computing, data analysis, artificial intelligence, and machine learning.\n",
    "# Large and active community: Python has a large and active community that provides comprehensive documentation, support, and many libraries and frameworks for various applications. This makes it easy for developers to find solutions to problems and to develop applications quickly.\n",
    "# Open source and free: Python is an open-source language, which means it is free to use, distribute, and modify. This makes it accessible to developers with limited budgets and resources.\n",
    "# Cross-platform compatibility: Python code can be run on multiple platforms such as Windows, macOS, and Linux, making it an ideal choice for cross-platform development.\n",
    "# High productivity: Python allows developers to write code in fewer lines, making it faster to develop and easier to maintain. Additionally, the availability of many libraries and frameworks speeds up development and reduces the amount of code that needs to be written.\n",
    "# Scalability: Python can handle large-scale applications with ease, making it a good choice for businesses and organizations that require scalable and high-performance applications.\n",
    "# Overall, Python's simplicity, versatility, community, and scalability make it a popular choice for many developers and organizations.\"\"\"\n"
   ]
  },
  {
   "cell_type": "code",
   "execution_count": 10,
   "id": "36170028-e78c-4f69-a953-41dffed45705",
   "metadata": {},
   "outputs": [],
   "source": [
    "# How is memory managed in Python ?"
   ]
  },
  {
   "cell_type": "code",
   "execution_count": 11,
   "id": "2a062275-339f-4c85-afc5-bba4d9dd6f76",
   "metadata": {},
   "outputs": [],
   "source": [
    "# Memory management in Python is handled automatically by the Python interpreter through a technique called Garbage Collection.\n",
    "\n",
    "# The garbage collector's job is to keep track of the memory that is being used and release the memory that is no longer needed by the program. It works by keeping a record of all the memory that has been allocated and checking which parts of the memory are not being used anymore.\n",
    "# Python uses a reference counting technique to manage memory. Whenever an object is created in Python, it is assigned a reference count, which is the number of variables that refer to the object. When the reference count of an object drops to zero, it means that the object is no longer needed and can be deleted from memory.\n",
    "# In addition to reference counting, Python also uses a cyclic garbage collector. This garbage collector can detect and remove cycles of objects that reference each other but are no longer reachable by the program. The cyclic garbage collector periodically checks for such cycles and releases the memory they occupy.\n",
    "# Python also provides a module called gc that allows you to control the garbage collector's behavior, such as turning it on or off, setting thresholds for when garbage collection should occur, and manually triggering garbage collection.\n",
    "# In summary, Python manages memory through a combination of reference counting and garbage collection techniques. The garbage collector automatically detects and removes memory that is no longer needed by the program, allowing developers to focus on writing code rather than managing memory manually."
   ]
  },
  {
   "cell_type": "code",
   "execution_count": 12,
   "id": "22ff3573-00ae-43cf-bdbd-8474c37d3640",
   "metadata": {},
   "outputs": [],
   "source": [
    "# How to install Python on windows and set path variables ?"
   ]
  },
  {
   "cell_type": "code",
   "execution_count": 13,
   "id": "c7f4e113-4866-47e3-9b22-c7b372618b63",
   "metadata": {},
   "outputs": [],
   "source": [
    "# Ans : Download the Python installer for Windows from the official Python website (https://www.python.org/downloads/windows/).\n",
    "# Run the installer and select \"Customize installation\" if you want to customize the installation options, or \"Install Now\" to use the default options.\n",
    "# Choose the installation location and make sure to select the option to \"Add Python to PATH\".\n",
    "# Follow the remaining prompts to complete the installation.\n",
    "# After installation, you can verify that Python is installed by opening a command prompt and typing \"python\". If Python is installed correctly, you will see the Python version and a prompt to enter Python commands.\n",
    "# If Python is not recognized in the command prompt, you need to set the path variables. To do this, right-click on \"This PC\" or \"My Computer\" and select \"Properties\".\n",
    "# Click on \"Advanced System Settings\", then click on \"Environment Variables\".\n",
    "# In the \"User variables\" section, click on \"New\" and enter \"PYTHON_HOME\" as the variable name and the installation location of Python as the variable value. For example, if Python is installed in \"C:\\Python38\", you would enter \"C:\\Python38\" as the variable value.\n",
    "# In the \"System variables\" section, find the \"Path\" variable and click \"Edit\".\n",
    "# Add \"%PYTHON_HOME%\" (without quotes) to the path variable and click \"OK\".\n",
    "# Close all windows and open a new command prompt. You should now be able to run Python commands from the command prompt."
   ]
  },
  {
   "cell_type": "code",
   "execution_count": 14,
   "id": "4bc632b5-9879-4a11-b54b-d8abff25105a",
   "metadata": {},
   "outputs": [],
   "source": [
    "# Is indentation required in python ?"
   ]
  },
  {
   "cell_type": "code",
   "execution_count": 15,
   "id": "13255a27-7003-4dc5-934c-e97758ded381",
   "metadata": {},
   "outputs": [],
   "source": [
    "# Ans :  Yes, indentation is required in Python. In fact, indentation is a fundamental aspect of Python's syntax and is used to indicate the structure and hierarchy of code blocks.\n",
    "# In most programming languages, blocks of code are enclosed in curly braces or other types of delimiters, but in Python, code blocks are defined by their indentation level. This means that whitespace at the beginning of a line is significant and determines how the code is interpreted.\n",
    "# For example, in Python, a for loop is typically written like this:\n",
    "# for i in range(10):\n",
    "#    print(i)\n",
    "# Note how the second line is indented by four spaces. This indentation indicates that the print(i) statement is part of the loop block.\n",
    "# If the indentation is incorrect or inconsistent, it can result in syntax errors or code that behaves unexpectedly. \n",
    "# Therefore, it's important to be consistent with your indentation style throughout your code."
   ]
  },
  {
   "cell_type": "code",
   "execution_count": null,
   "id": "86c853df-cb9f-45a2-a7aa-3954818a93ac",
   "metadata": {},
   "outputs": [],
   "source": []
  }
 ],
 "metadata": {
  "kernelspec": {
   "display_name": "Python 3 (ipykernel)",
   "language": "python",
   "name": "python3"
  },
  "language_info": {
   "codemirror_mode": {
    "name": "ipython",
    "version": 3
   },
   "file_extension": ".py",
   "mimetype": "text/x-python",
   "name": "python",
   "nbconvert_exporter": "python",
   "pygments_lexer": "ipython3",
   "version": "3.10.6"
  }
 },
 "nbformat": 4,
 "nbformat_minor": 5
}
